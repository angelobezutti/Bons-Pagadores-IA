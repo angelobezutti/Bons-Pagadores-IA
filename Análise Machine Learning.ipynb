{
  "nbformat": 4,
  "nbformat_minor": 0,
  "metadata": {
    "colab": {
      "name": "TRABALHO_G2.ipynb",
      "provenance": [],
      "collapsed_sections": []
    },
    "kernelspec": {
      "name": "python3",
      "display_name": "Python 3"
    },
    "language_info": {
      "name": "python"
    }
  },
  "cells": [
    {
      "cell_type": "markdown",
      "source": [
        "Previsão de aprovação de crédito"
      ],
      "metadata": {
        "id": "zIzhoErJITOG"
      }
    },
    {
      "cell_type": "code",
      "source": [
        "#CRIAÇÃO DA CONEXÃO DO GOOGLE DRIVE\n",
        "\n",
        "#from google.colab import drive\n",
        "#drive.mount('/content/drive')"
      ],
      "metadata": {
        "colab": {
          "base_uri": "https://localhost:8080/"
        },
        "id": "iXZJ5bJZcHIi",
        "outputId": "402f2e23-4afd-4c20-d340-1f147800c335"
      },
      "execution_count": null,
      "outputs": [
        {
          "output_type": "stream",
          "name": "stdout",
          "text": [
            "Mounted at /content/drive\n"
          ]
        }
      ]
    },
    {
      "cell_type": "code",
      "execution_count": null,
      "metadata": {
        "id": "-NB_rTZqQmgw"
      },
      "outputs": [],
      "source": [
        "#IMPORTAÇÃO DAS BIBLIOTECAS NECESÁRIAS\n",
        "\n",
        "#import numpy as np \n",
        "#import pandas as pd\n",
        "#import seaborn as sns\n",
        "#import matplotlib.pyplot as plt\n",
        "#from sklearn.model_selection import train_test_split\n",
        "#from imblearn.over_sampling import SMOTE\n",
        "#from imblearn.under_sampling import TomekLinks\n",
        "#from sklearn.cluster import KMeans\n",
        "#from sklearn.ensemble import RandomForestClassifier\n",
        "#from sklearn.neighbors import KNeighborsClassifier "
      ]
    },
    {
      "cell_type": "markdown",
      "source": [
        "Link dos datasets:\n",
        "https://www.kaggle.com/datasets/rikdifos/credit-card-approval-prediction"
      ],
      "metadata": {
        "id": "ci3OL1IBalQQ"
      }
    },
    {
      "cell_type": "code",
      "source": [
        "#LEITURA DO ARQUIVO APPLICATION RECORD\n",
        "\n",
        "#pred_credito = pd.read_csv('drive/MyDrive/Colab Notebooks/G2/Trabalho G2/application_record.csv')\n",
        "#pred_credito.head()"
      ],
      "metadata": {
        "colab": {
          "base_uri": "https://localhost:8080/",
          "height": 322
        },
        "id": "cDdn8VG8YJOc",
        "outputId": "522022d4-6b5c-44f3-9d49-2f3a7ccd3a61"
      },
      "execution_count": null,
      "outputs": [
        {
          "output_type": "execute_result",
          "data": {
            "text/plain": [
              "        ID CODE_GENDER FLAG_OWN_CAR FLAG_OWN_REALTY  CNT_CHILDREN  \\\n",
              "0  5008804           M            Y               Y             0   \n",
              "1  5008805           M            Y               Y             0   \n",
              "2  5008806           M            Y               Y             0   \n",
              "3  5008808           F            N               Y             0   \n",
              "4  5008809           F            N               Y             0   \n",
              "\n",
              "   AMT_INCOME_TOTAL      NAME_INCOME_TYPE            NAME_EDUCATION_TYPE  \\\n",
              "0          427500.0               Working               Higher education   \n",
              "1          427500.0               Working               Higher education   \n",
              "2          112500.0               Working  Secondary / secondary special   \n",
              "3          270000.0  Commercial associate  Secondary / secondary special   \n",
              "4          270000.0  Commercial associate  Secondary / secondary special   \n",
              "\n",
              "     NAME_FAMILY_STATUS  NAME_HOUSING_TYPE  DAYS_BIRTH  DAYS_EMPLOYED  \\\n",
              "0        Civil marriage   Rented apartment      -12005          -4542   \n",
              "1        Civil marriage   Rented apartment      -12005          -4542   \n",
              "2               Married  House / apartment      -21474          -1134   \n",
              "3  Single / not married  House / apartment      -19110          -3051   \n",
              "4  Single / not married  House / apartment      -19110          -3051   \n",
              "\n",
              "   FLAG_MOBIL  FLAG_WORK_PHONE  FLAG_PHONE  FLAG_EMAIL OCCUPATION_TYPE  \\\n",
              "0           1                1           0           0             NaN   \n",
              "1           1                1           0           0             NaN   \n",
              "2           1                0           0           0  Security staff   \n",
              "3           1                0           1           1     Sales staff   \n",
              "4           1                0           1           1     Sales staff   \n",
              "\n",
              "   CNT_FAM_MEMBERS  \n",
              "0              2.0  \n",
              "1              2.0  \n",
              "2              2.0  \n",
              "3              1.0  \n",
              "4              1.0  "
            ],
            "text/html": [
              "\n",
              "  <div id=\"df-b331a9b3-5179-4f01-a92b-d48a4e84c7d8\">\n",
              "    <div class=\"colab-df-container\">\n",
              "      <div>\n",
              "<style scoped>\n",
              "    .dataframe tbody tr th:only-of-type {\n",
              "        vertical-align: middle;\n",
              "    }\n",
              "\n",
              "    .dataframe tbody tr th {\n",
              "        vertical-align: top;\n",
              "    }\n",
              "\n",
              "    .dataframe thead th {\n",
              "        text-align: right;\n",
              "    }\n",
              "</style>\n",
              "<table border=\"1\" class=\"dataframe\">\n",
              "  <thead>\n",
              "    <tr style=\"text-align: right;\">\n",
              "      <th></th>\n",
              "      <th>ID</th>\n",
              "      <th>CODE_GENDER</th>\n",
              "      <th>FLAG_OWN_CAR</th>\n",
              "      <th>FLAG_OWN_REALTY</th>\n",
              "      <th>CNT_CHILDREN</th>\n",
              "      <th>AMT_INCOME_TOTAL</th>\n",
              "      <th>NAME_INCOME_TYPE</th>\n",
              "      <th>NAME_EDUCATION_TYPE</th>\n",
              "      <th>NAME_FAMILY_STATUS</th>\n",
              "      <th>NAME_HOUSING_TYPE</th>\n",
              "      <th>DAYS_BIRTH</th>\n",
              "      <th>DAYS_EMPLOYED</th>\n",
              "      <th>FLAG_MOBIL</th>\n",
              "      <th>FLAG_WORK_PHONE</th>\n",
              "      <th>FLAG_PHONE</th>\n",
              "      <th>FLAG_EMAIL</th>\n",
              "      <th>OCCUPATION_TYPE</th>\n",
              "      <th>CNT_FAM_MEMBERS</th>\n",
              "    </tr>\n",
              "  </thead>\n",
              "  <tbody>\n",
              "    <tr>\n",
              "      <th>0</th>\n",
              "      <td>5008804</td>\n",
              "      <td>M</td>\n",
              "      <td>Y</td>\n",
              "      <td>Y</td>\n",
              "      <td>0</td>\n",
              "      <td>427500.0</td>\n",
              "      <td>Working</td>\n",
              "      <td>Higher education</td>\n",
              "      <td>Civil marriage</td>\n",
              "      <td>Rented apartment</td>\n",
              "      <td>-12005</td>\n",
              "      <td>-4542</td>\n",
              "      <td>1</td>\n",
              "      <td>1</td>\n",
              "      <td>0</td>\n",
              "      <td>0</td>\n",
              "      <td>NaN</td>\n",
              "      <td>2.0</td>\n",
              "    </tr>\n",
              "    <tr>\n",
              "      <th>1</th>\n",
              "      <td>5008805</td>\n",
              "      <td>M</td>\n",
              "      <td>Y</td>\n",
              "      <td>Y</td>\n",
              "      <td>0</td>\n",
              "      <td>427500.0</td>\n",
              "      <td>Working</td>\n",
              "      <td>Higher education</td>\n",
              "      <td>Civil marriage</td>\n",
              "      <td>Rented apartment</td>\n",
              "      <td>-12005</td>\n",
              "      <td>-4542</td>\n",
              "      <td>1</td>\n",
              "      <td>1</td>\n",
              "      <td>0</td>\n",
              "      <td>0</td>\n",
              "      <td>NaN</td>\n",
              "      <td>2.0</td>\n",
              "    </tr>\n",
              "    <tr>\n",
              "      <th>2</th>\n",
              "      <td>5008806</td>\n",
              "      <td>M</td>\n",
              "      <td>Y</td>\n",
              "      <td>Y</td>\n",
              "      <td>0</td>\n",
              "      <td>112500.0</td>\n",
              "      <td>Working</td>\n",
              "      <td>Secondary / secondary special</td>\n",
              "      <td>Married</td>\n",
              "      <td>House / apartment</td>\n",
              "      <td>-21474</td>\n",
              "      <td>-1134</td>\n",
              "      <td>1</td>\n",
              "      <td>0</td>\n",
              "      <td>0</td>\n",
              "      <td>0</td>\n",
              "      <td>Security staff</td>\n",
              "      <td>2.0</td>\n",
              "    </tr>\n",
              "    <tr>\n",
              "      <th>3</th>\n",
              "      <td>5008808</td>\n",
              "      <td>F</td>\n",
              "      <td>N</td>\n",
              "      <td>Y</td>\n",
              "      <td>0</td>\n",
              "      <td>270000.0</td>\n",
              "      <td>Commercial associate</td>\n",
              "      <td>Secondary / secondary special</td>\n",
              "      <td>Single / not married</td>\n",
              "      <td>House / apartment</td>\n",
              "      <td>-19110</td>\n",
              "      <td>-3051</td>\n",
              "      <td>1</td>\n",
              "      <td>0</td>\n",
              "      <td>1</td>\n",
              "      <td>1</td>\n",
              "      <td>Sales staff</td>\n",
              "      <td>1.0</td>\n",
              "    </tr>\n",
              "    <tr>\n",
              "      <th>4</th>\n",
              "      <td>5008809</td>\n",
              "      <td>F</td>\n",
              "      <td>N</td>\n",
              "      <td>Y</td>\n",
              "      <td>0</td>\n",
              "      <td>270000.0</td>\n",
              "      <td>Commercial associate</td>\n",
              "      <td>Secondary / secondary special</td>\n",
              "      <td>Single / not married</td>\n",
              "      <td>House / apartment</td>\n",
              "      <td>-19110</td>\n",
              "      <td>-3051</td>\n",
              "      <td>1</td>\n",
              "      <td>0</td>\n",
              "      <td>1</td>\n",
              "      <td>1</td>\n",
              "      <td>Sales staff</td>\n",
              "      <td>1.0</td>\n",
              "    </tr>\n",
              "  </tbody>\n",
              "</table>\n",
              "</div>\n",
              "      <button class=\"colab-df-convert\" onclick=\"convertToInteractive('df-b331a9b3-5179-4f01-a92b-d48a4e84c7d8')\"\n",
              "              title=\"Convert this dataframe to an interactive table.\"\n",
              "              style=\"display:none;\">\n",
              "        \n",
              "  <svg xmlns=\"http://www.w3.org/2000/svg\" height=\"24px\"viewBox=\"0 0 24 24\"\n",
              "       width=\"24px\">\n",
              "    <path d=\"M0 0h24v24H0V0z\" fill=\"none\"/>\n",
              "    <path d=\"M18.56 5.44l.94 2.06.94-2.06 2.06-.94-2.06-.94-.94-2.06-.94 2.06-2.06.94zm-11 1L8.5 8.5l.94-2.06 2.06-.94-2.06-.94L8.5 2.5l-.94 2.06-2.06.94zm10 10l.94 2.06.94-2.06 2.06-.94-2.06-.94-.94-2.06-.94 2.06-2.06.94z\"/><path d=\"M17.41 7.96l-1.37-1.37c-.4-.4-.92-.59-1.43-.59-.52 0-1.04.2-1.43.59L10.3 9.45l-7.72 7.72c-.78.78-.78 2.05 0 2.83L4 21.41c.39.39.9.59 1.41.59.51 0 1.02-.2 1.41-.59l7.78-7.78 2.81-2.81c.8-.78.8-2.07 0-2.86zM5.41 20L4 18.59l7.72-7.72 1.47 1.35L5.41 20z\"/>\n",
              "  </svg>\n",
              "      </button>\n",
              "      \n",
              "  <style>\n",
              "    .colab-df-container {\n",
              "      display:flex;\n",
              "      flex-wrap:wrap;\n",
              "      gap: 12px;\n",
              "    }\n",
              "\n",
              "    .colab-df-convert {\n",
              "      background-color: #E8F0FE;\n",
              "      border: none;\n",
              "      border-radius: 50%;\n",
              "      cursor: pointer;\n",
              "      display: none;\n",
              "      fill: #1967D2;\n",
              "      height: 32px;\n",
              "      padding: 0 0 0 0;\n",
              "      width: 32px;\n",
              "    }\n",
              "\n",
              "    .colab-df-convert:hover {\n",
              "      background-color: #E2EBFA;\n",
              "      box-shadow: 0px 1px 2px rgba(60, 64, 67, 0.3), 0px 1px 3px 1px rgba(60, 64, 67, 0.15);\n",
              "      fill: #174EA6;\n",
              "    }\n",
              "\n",
              "    [theme=dark] .colab-df-convert {\n",
              "      background-color: #3B4455;\n",
              "      fill: #D2E3FC;\n",
              "    }\n",
              "\n",
              "    [theme=dark] .colab-df-convert:hover {\n",
              "      background-color: #434B5C;\n",
              "      box-shadow: 0px 1px 3px 1px rgba(0, 0, 0, 0.15);\n",
              "      filter: drop-shadow(0px 1px 2px rgba(0, 0, 0, 0.3));\n",
              "      fill: #FFFFFF;\n",
              "    }\n",
              "  </style>\n",
              "\n",
              "      <script>\n",
              "        const buttonEl =\n",
              "          document.querySelector('#df-b331a9b3-5179-4f01-a92b-d48a4e84c7d8 button.colab-df-convert');\n",
              "        buttonEl.style.display =\n",
              "          google.colab.kernel.accessAllowed ? 'block' : 'none';\n",
              "\n",
              "        async function convertToInteractive(key) {\n",
              "          const element = document.querySelector('#df-b331a9b3-5179-4f01-a92b-d48a4e84c7d8');\n",
              "          const dataTable =\n",
              "            await google.colab.kernel.invokeFunction('convertToInteractive',\n",
              "                                                     [key], {});\n",
              "          if (!dataTable) return;\n",
              "\n",
              "          const docLinkHtml = 'Like what you see? Visit the ' +\n",
              "            '<a target=\"_blank\" href=https://colab.research.google.com/notebooks/data_table.ipynb>data table notebook</a>'\n",
              "            + ' to learn more about interactive tables.';\n",
              "          element.innerHTML = '';\n",
              "          dataTable['output_type'] = 'display_data';\n",
              "          await google.colab.output.renderOutput(dataTable, element);\n",
              "          const docLink = document.createElement('div');\n",
              "          docLink.innerHTML = docLinkHtml;\n",
              "          element.appendChild(docLink);\n",
              "        }\n",
              "      </script>\n",
              "    </div>\n",
              "  </div>\n",
              "  "
            ]
          },
          "metadata": {},
          "execution_count": 8
        }
      ]
    },
    {
      "cell_type": "code",
      "source": [
        "#LEITURA DO ARQUIVO CREDIT RECORD\n",
        "\n",
        "#pred_credito2 = pd.read_csv('drive/MyDrive/Colab Notebooks/G2/Trabalho G2/credit_record.csv')\n",
        "#pred_credito2.head()"
      ],
      "metadata": {
        "colab": {
          "base_uri": "https://localhost:8080/",
          "height": 206
        },
        "id": "8cJNHt-QYJmU",
        "outputId": "15d46255-30bd-4ed4-cddc-294e4041b41d"
      },
      "execution_count": null,
      "outputs": [
        {
          "output_type": "execute_result",
          "data": {
            "text/plain": [
              "        ID  MONTHS_BALANCE STATUS\n",
              "0  5001711               0      X\n",
              "1  5001711              -1      0\n",
              "2  5001711              -2      0\n",
              "3  5001711              -3      0\n",
              "4  5001712               0      C"
            ],
            "text/html": [
              "\n",
              "  <div id=\"df-03457ed0-bad7-4ca7-b9d4-673de390a221\">\n",
              "    <div class=\"colab-df-container\">\n",
              "      <div>\n",
              "<style scoped>\n",
              "    .dataframe tbody tr th:only-of-type {\n",
              "        vertical-align: middle;\n",
              "    }\n",
              "\n",
              "    .dataframe tbody tr th {\n",
              "        vertical-align: top;\n",
              "    }\n",
              "\n",
              "    .dataframe thead th {\n",
              "        text-align: right;\n",
              "    }\n",
              "</style>\n",
              "<table border=\"1\" class=\"dataframe\">\n",
              "  <thead>\n",
              "    <tr style=\"text-align: right;\">\n",
              "      <th></th>\n",
              "      <th>ID</th>\n",
              "      <th>MONTHS_BALANCE</th>\n",
              "      <th>STATUS</th>\n",
              "    </tr>\n",
              "  </thead>\n",
              "  <tbody>\n",
              "    <tr>\n",
              "      <th>0</th>\n",
              "      <td>5001711</td>\n",
              "      <td>0</td>\n",
              "      <td>X</td>\n",
              "    </tr>\n",
              "    <tr>\n",
              "      <th>1</th>\n",
              "      <td>5001711</td>\n",
              "      <td>-1</td>\n",
              "      <td>0</td>\n",
              "    </tr>\n",
              "    <tr>\n",
              "      <th>2</th>\n",
              "      <td>5001711</td>\n",
              "      <td>-2</td>\n",
              "      <td>0</td>\n",
              "    </tr>\n",
              "    <tr>\n",
              "      <th>3</th>\n",
              "      <td>5001711</td>\n",
              "      <td>-3</td>\n",
              "      <td>0</td>\n",
              "    </tr>\n",
              "    <tr>\n",
              "      <th>4</th>\n",
              "      <td>5001712</td>\n",
              "      <td>0</td>\n",
              "      <td>C</td>\n",
              "    </tr>\n",
              "  </tbody>\n",
              "</table>\n",
              "</div>\n",
              "      <button class=\"colab-df-convert\" onclick=\"convertToInteractive('df-03457ed0-bad7-4ca7-b9d4-673de390a221')\"\n",
              "              title=\"Convert this dataframe to an interactive table.\"\n",
              "              style=\"display:none;\">\n",
              "        \n",
              "  <svg xmlns=\"http://www.w3.org/2000/svg\" height=\"24px\"viewBox=\"0 0 24 24\"\n",
              "       width=\"24px\">\n",
              "    <path d=\"M0 0h24v24H0V0z\" fill=\"none\"/>\n",
              "    <path d=\"M18.56 5.44l.94 2.06.94-2.06 2.06-.94-2.06-.94-.94-2.06-.94 2.06-2.06.94zm-11 1L8.5 8.5l.94-2.06 2.06-.94-2.06-.94L8.5 2.5l-.94 2.06-2.06.94zm10 10l.94 2.06.94-2.06 2.06-.94-2.06-.94-.94-2.06-.94 2.06-2.06.94z\"/><path d=\"M17.41 7.96l-1.37-1.37c-.4-.4-.92-.59-1.43-.59-.52 0-1.04.2-1.43.59L10.3 9.45l-7.72 7.72c-.78.78-.78 2.05 0 2.83L4 21.41c.39.39.9.59 1.41.59.51 0 1.02-.2 1.41-.59l7.78-7.78 2.81-2.81c.8-.78.8-2.07 0-2.86zM5.41 20L4 18.59l7.72-7.72 1.47 1.35L5.41 20z\"/>\n",
              "  </svg>\n",
              "      </button>\n",
              "      \n",
              "  <style>\n",
              "    .colab-df-container {\n",
              "      display:flex;\n",
              "      flex-wrap:wrap;\n",
              "      gap: 12px;\n",
              "    }\n",
              "\n",
              "    .colab-df-convert {\n",
              "      background-color: #E8F0FE;\n",
              "      border: none;\n",
              "      border-radius: 50%;\n",
              "      cursor: pointer;\n",
              "      display: none;\n",
              "      fill: #1967D2;\n",
              "      height: 32px;\n",
              "      padding: 0 0 0 0;\n",
              "      width: 32px;\n",
              "    }\n",
              "\n",
              "    .colab-df-convert:hover {\n",
              "      background-color: #E2EBFA;\n",
              "      box-shadow: 0px 1px 2px rgba(60, 64, 67, 0.3), 0px 1px 3px 1px rgba(60, 64, 67, 0.15);\n",
              "      fill: #174EA6;\n",
              "    }\n",
              "\n",
              "    [theme=dark] .colab-df-convert {\n",
              "      background-color: #3B4455;\n",
              "      fill: #D2E3FC;\n",
              "    }\n",
              "\n",
              "    [theme=dark] .colab-df-convert:hover {\n",
              "      background-color: #434B5C;\n",
              "      box-shadow: 0px 1px 3px 1px rgba(0, 0, 0, 0.15);\n",
              "      filter: drop-shadow(0px 1px 2px rgba(0, 0, 0, 0.3));\n",
              "      fill: #FFFFFF;\n",
              "    }\n",
              "  </style>\n",
              "\n",
              "      <script>\n",
              "        const buttonEl =\n",
              "          document.querySelector('#df-03457ed0-bad7-4ca7-b9d4-673de390a221 button.colab-df-convert');\n",
              "        buttonEl.style.display =\n",
              "          google.colab.kernel.accessAllowed ? 'block' : 'none';\n",
              "\n",
              "        async function convertToInteractive(key) {\n",
              "          const element = document.querySelector('#df-03457ed0-bad7-4ca7-b9d4-673de390a221');\n",
              "          const dataTable =\n",
              "            await google.colab.kernel.invokeFunction('convertToInteractive',\n",
              "                                                     [key], {});\n",
              "          if (!dataTable) return;\n",
              "\n",
              "          const docLinkHtml = 'Like what you see? Visit the ' +\n",
              "            '<a target=\"_blank\" href=https://colab.research.google.com/notebooks/data_table.ipynb>data table notebook</a>'\n",
              "            + ' to learn more about interactive tables.';\n",
              "          element.innerHTML = '';\n",
              "          dataTable['output_type'] = 'display_data';\n",
              "          await google.colab.output.renderOutput(dataTable, element);\n",
              "          const docLink = document.createElement('div');\n",
              "          docLink.innerHTML = docLinkHtml;\n",
              "          element.appendChild(docLink);\n",
              "        }\n",
              "      </script>\n",
              "    </div>\n",
              "  </div>\n",
              "  "
            ]
          },
          "metadata": {},
          "execution_count": 9
        }
      ]
    },
    {
      "cell_type": "code",
      "source": [
        "#JUNTANDO OS DF\n",
        "#DF = pd.merge(pred_credito, pred_credito2, on='ID')"
      ],
      "metadata": {
        "id": "1NIKDI0jYJ_s"
      },
      "execution_count": null,
      "outputs": []
    },
    {
      "cell_type": "markdown",
      "source": [
        "#Pré-processamento de dados"
      ],
      "metadata": {
        "id": "5ubVwzD-n7G9"
      }
    },
    {
      "cell_type": "code",
      "source": [
        "#RENOMEANDO AS COLUNAS PARA MELHOR ENTENDIMENTO\n",
        "#DF = DF.rename(columns={'CODE_GENDER':'GENERO','FLAG_OWN_CAR':'POSSUI_CARRO','FLAG_OWN_REALTY':'POSSUI_PROPRIEDADE','CNT_CHILDREN':'QTD_FILHOS','AMT_INCOME_TOTAL':'SALARIO_ANUAL','NAME_INCOME_TYPE':'CATEGORIA_RENDA', \n",
        " #                            'NAME_EDUCATION_TYPE':'NIVEL_EDUCAÇÃO','NAME_FAMILY_STATUS':'ESTADO_CIVIL','NAME_HOUSING_TYPE':'MODO_VIVER','DAYS_BIRTH':'DIAS_DESDE_ANIVERSÁRIO','DAYS_EMPLOYED':'DIAS_EMPREGO','FLAG_MOBIL':'POSSUI_CELULAR','FLAG_WORK_PHONE':'POSSUI_CELULAR_TRABALHO','FLAG_PHONE':'POSSUI_TELEFONE','FLAG_EMAIL':'POSSUI_EMAIL','OCCUPATION_TYPE':'OCUPAÇÃO','CNT_FAM_MEMBERS':'QTD_MEMBROS_FAMILIA','MONTHS_BALANCE':'SALDO_MESES'})\n"
      ],
      "metadata": {
        "id": "HjoPfhXantml"
      },
      "execution_count": null,
      "outputs": []
    },
    {
      "cell_type": "code",
      "source": [
        "#CLASSIFICANDO O ATRIBUTO STATUS\n",
        "\n",
        "#0 = 1 - 29 DIAS DE ATRASO\n",
        "#1 = 30 - 59 DIAS DE ATRASO\n",
        "#2 = 60 - 89 DIAS DE ATRASO\n",
        "#3 = 90 - 119 DIAS DE ATRASO\n",
        "#4 = 120 - 149 DIAS DE ATRASO\n",
        "#5 = >= 150 DIAS (INCOBRÁVEIS)\n",
        "#C = QUITADO NO MÊS ATUAL\n",
        "#X = SEM EMPRÉSTIMO NO MÊS\n",
        "\n",
        "#STATUS_CREDITO = {'C' : 'Em dia',\n",
        " #              'X' : 'Em dia',\n",
        "  #             '0' : 'Atraso',\n",
        "   #            '1' : 'Atraso',\n",
        "    #           '2' : 'Atraso',\n",
        "     #          '3' : 'Atraso',\n",
        "      #         '4' : 'Atraso',\n",
        "       #        '5' : 'Atraso'}\n",
        "\n",
        "#DF.replace({'STATUS' : STATUS_CREDITO}, inplace=True)"
      ],
      "metadata": {
        "id": "8GylHK8YoFkI"
      },
      "execution_count": null,
      "outputs": []
    },
    {
      "cell_type": "code",
      "source": [
        "#DF"
      ],
      "metadata": {
        "colab": {
          "base_uri": "https://localhost:8080/",
          "height": 748
        },
        "id": "RVL4tSTkJceP",
        "outputId": "c0994214-4573-4f37-df74-02ff48e25f26"
      },
      "execution_count": null,
      "outputs": [
        {
          "output_type": "execute_result",
          "data": {
            "text/plain": [
              "             ID GENERO POSSUI_CARRO POSSUI_PROPRIEDADE  QTD_FILHOS  \\\n",
              "0       5008804      M            Y                  Y           0   \n",
              "1       5008804      M            Y                  Y           0   \n",
              "2       5008804      M            Y                  Y           0   \n",
              "3       5008804      M            Y                  Y           0   \n",
              "4       5008804      M            Y                  Y           0   \n",
              "...         ...    ...          ...                ...         ...   \n",
              "777710  5150337      M            N                  Y           0   \n",
              "777711  5150337      M            N                  Y           0   \n",
              "777712  5150337      M            N                  Y           0   \n",
              "777713  5150337      M            N                  Y           0   \n",
              "777714  5150337      M            N                  Y           0   \n",
              "\n",
              "        SALARIO_ANUAL CATEGORIA_RENDA                 NIVEL_EDUCAÇÃO  \\\n",
              "0            427500.0         Working               Higher education   \n",
              "1            427500.0         Working               Higher education   \n",
              "2            427500.0         Working               Higher education   \n",
              "3            427500.0         Working               Higher education   \n",
              "4            427500.0         Working               Higher education   \n",
              "...               ...             ...                            ...   \n",
              "777710       112500.0         Working  Secondary / secondary special   \n",
              "777711       112500.0         Working  Secondary / secondary special   \n",
              "777712       112500.0         Working  Secondary / secondary special   \n",
              "777713       112500.0         Working  Secondary / secondary special   \n",
              "777714       112500.0         Working  Secondary / secondary special   \n",
              "\n",
              "                ESTADO_CIVIL        MODO_VIVER  DIAS_DESDE_ANIVERSÁRIO  \\\n",
              "0             Civil marriage  Rented apartment                  -12005   \n",
              "1             Civil marriage  Rented apartment                  -12005   \n",
              "2             Civil marriage  Rented apartment                  -12005   \n",
              "3             Civil marriage  Rented apartment                  -12005   \n",
              "4             Civil marriage  Rented apartment                  -12005   \n",
              "...                      ...               ...                     ...   \n",
              "777710  Single / not married  Rented apartment                   -9188   \n",
              "777711  Single / not married  Rented apartment                   -9188   \n",
              "777712  Single / not married  Rented apartment                   -9188   \n",
              "777713  Single / not married  Rented apartment                   -9188   \n",
              "777714  Single / not married  Rented apartment                   -9188   \n",
              "\n",
              "        DIAS_EMPREGO  POSSUI_CELULAR  POSSUI_CELULAR_TRABALHO  \\\n",
              "0              -4542               1                        1   \n",
              "1              -4542               1                        1   \n",
              "2              -4542               1                        1   \n",
              "3              -4542               1                        1   \n",
              "4              -4542               1                        1   \n",
              "...              ...             ...                      ...   \n",
              "777710         -1193               1                        0   \n",
              "777711         -1193               1                        0   \n",
              "777712         -1193               1                        0   \n",
              "777713         -1193               1                        0   \n",
              "777714         -1193               1                        0   \n",
              "\n",
              "        POSSUI_TELEFONE  POSSUI_EMAIL  OCUPAÇÃO  QTD_MEMBROS_FAMILIA  \\\n",
              "0                     0             0       NaN                  2.0   \n",
              "1                     0             0       NaN                  2.0   \n",
              "2                     0             0       NaN                  2.0   \n",
              "3                     0             0       NaN                  2.0   \n",
              "4                     0             0       NaN                  2.0   \n",
              "...                 ...           ...       ...                  ...   \n",
              "777710                0             0  Laborers                  1.0   \n",
              "777711                0             0  Laborers                  1.0   \n",
              "777712                0             0  Laborers                  1.0   \n",
              "777713                0             0  Laborers                  1.0   \n",
              "777714                0             0  Laborers                  1.0   \n",
              "\n",
              "        SALDO_MESES  STATUS  \n",
              "0                 0  Em dia  \n",
              "1                -1  Em dia  \n",
              "2                -2  Em dia  \n",
              "3                -3  Em dia  \n",
              "4                -4  Em dia  \n",
              "...             ...     ...  \n",
              "777710           -9  Atraso  \n",
              "777711          -10  Atraso  \n",
              "777712          -11  Atraso  \n",
              "777713          -12  Atraso  \n",
              "777714          -13  Atraso  \n",
              "\n",
              "[777715 rows x 20 columns]"
            ],
            "text/html": [
              "\n",
              "  <div id=\"df-dc54fa55-f02d-43c0-accb-1dee911af115\">\n",
              "    <div class=\"colab-df-container\">\n",
              "      <div>\n",
              "<style scoped>\n",
              "    .dataframe tbody tr th:only-of-type {\n",
              "        vertical-align: middle;\n",
              "    }\n",
              "\n",
              "    .dataframe tbody tr th {\n",
              "        vertical-align: top;\n",
              "    }\n",
              "\n",
              "    .dataframe thead th {\n",
              "        text-align: right;\n",
              "    }\n",
              "</style>\n",
              "<table border=\"1\" class=\"dataframe\">\n",
              "  <thead>\n",
              "    <tr style=\"text-align: right;\">\n",
              "      <th></th>\n",
              "      <th>ID</th>\n",
              "      <th>GENERO</th>\n",
              "      <th>POSSUI_CARRO</th>\n",
              "      <th>POSSUI_PROPRIEDADE</th>\n",
              "      <th>QTD_FILHOS</th>\n",
              "      <th>SALARIO_ANUAL</th>\n",
              "      <th>CATEGORIA_RENDA</th>\n",
              "      <th>NIVEL_EDUCAÇÃO</th>\n",
              "      <th>ESTADO_CIVIL</th>\n",
              "      <th>MODO_VIVER</th>\n",
              "      <th>DIAS_DESDE_ANIVERSÁRIO</th>\n",
              "      <th>DIAS_EMPREGO</th>\n",
              "      <th>POSSUI_CELULAR</th>\n",
              "      <th>POSSUI_CELULAR_TRABALHO</th>\n",
              "      <th>POSSUI_TELEFONE</th>\n",
              "      <th>POSSUI_EMAIL</th>\n",
              "      <th>OCUPAÇÃO</th>\n",
              "      <th>QTD_MEMBROS_FAMILIA</th>\n",
              "      <th>SALDO_MESES</th>\n",
              "      <th>STATUS</th>\n",
              "    </tr>\n",
              "  </thead>\n",
              "  <tbody>\n",
              "    <tr>\n",
              "      <th>0</th>\n",
              "      <td>5008804</td>\n",
              "      <td>M</td>\n",
              "      <td>Y</td>\n",
              "      <td>Y</td>\n",
              "      <td>0</td>\n",
              "      <td>427500.0</td>\n",
              "      <td>Working</td>\n",
              "      <td>Higher education</td>\n",
              "      <td>Civil marriage</td>\n",
              "      <td>Rented apartment</td>\n",
              "      <td>-12005</td>\n",
              "      <td>-4542</td>\n",
              "      <td>1</td>\n",
              "      <td>1</td>\n",
              "      <td>0</td>\n",
              "      <td>0</td>\n",
              "      <td>NaN</td>\n",
              "      <td>2.0</td>\n",
              "      <td>0</td>\n",
              "      <td>Em dia</td>\n",
              "    </tr>\n",
              "    <tr>\n",
              "      <th>1</th>\n",
              "      <td>5008804</td>\n",
              "      <td>M</td>\n",
              "      <td>Y</td>\n",
              "      <td>Y</td>\n",
              "      <td>0</td>\n",
              "      <td>427500.0</td>\n",
              "      <td>Working</td>\n",
              "      <td>Higher education</td>\n",
              "      <td>Civil marriage</td>\n",
              "      <td>Rented apartment</td>\n",
              "      <td>-12005</td>\n",
              "      <td>-4542</td>\n",
              "      <td>1</td>\n",
              "      <td>1</td>\n",
              "      <td>0</td>\n",
              "      <td>0</td>\n",
              "      <td>NaN</td>\n",
              "      <td>2.0</td>\n",
              "      <td>-1</td>\n",
              "      <td>Em dia</td>\n",
              "    </tr>\n",
              "    <tr>\n",
              "      <th>2</th>\n",
              "      <td>5008804</td>\n",
              "      <td>M</td>\n",
              "      <td>Y</td>\n",
              "      <td>Y</td>\n",
              "      <td>0</td>\n",
              "      <td>427500.0</td>\n",
              "      <td>Working</td>\n",
              "      <td>Higher education</td>\n",
              "      <td>Civil marriage</td>\n",
              "      <td>Rented apartment</td>\n",
              "      <td>-12005</td>\n",
              "      <td>-4542</td>\n",
              "      <td>1</td>\n",
              "      <td>1</td>\n",
              "      <td>0</td>\n",
              "      <td>0</td>\n",
              "      <td>NaN</td>\n",
              "      <td>2.0</td>\n",
              "      <td>-2</td>\n",
              "      <td>Em dia</td>\n",
              "    </tr>\n",
              "    <tr>\n",
              "      <th>3</th>\n",
              "      <td>5008804</td>\n",
              "      <td>M</td>\n",
              "      <td>Y</td>\n",
              "      <td>Y</td>\n",
              "      <td>0</td>\n",
              "      <td>427500.0</td>\n",
              "      <td>Working</td>\n",
              "      <td>Higher education</td>\n",
              "      <td>Civil marriage</td>\n",
              "      <td>Rented apartment</td>\n",
              "      <td>-12005</td>\n",
              "      <td>-4542</td>\n",
              "      <td>1</td>\n",
              "      <td>1</td>\n",
              "      <td>0</td>\n",
              "      <td>0</td>\n",
              "      <td>NaN</td>\n",
              "      <td>2.0</td>\n",
              "      <td>-3</td>\n",
              "      <td>Em dia</td>\n",
              "    </tr>\n",
              "    <tr>\n",
              "      <th>4</th>\n",
              "      <td>5008804</td>\n",
              "      <td>M</td>\n",
              "      <td>Y</td>\n",
              "      <td>Y</td>\n",
              "      <td>0</td>\n",
              "      <td>427500.0</td>\n",
              "      <td>Working</td>\n",
              "      <td>Higher education</td>\n",
              "      <td>Civil marriage</td>\n",
              "      <td>Rented apartment</td>\n",
              "      <td>-12005</td>\n",
              "      <td>-4542</td>\n",
              "      <td>1</td>\n",
              "      <td>1</td>\n",
              "      <td>0</td>\n",
              "      <td>0</td>\n",
              "      <td>NaN</td>\n",
              "      <td>2.0</td>\n",
              "      <td>-4</td>\n",
              "      <td>Em dia</td>\n",
              "    </tr>\n",
              "    <tr>\n",
              "      <th>...</th>\n",
              "      <td>...</td>\n",
              "      <td>...</td>\n",
              "      <td>...</td>\n",
              "      <td>...</td>\n",
              "      <td>...</td>\n",
              "      <td>...</td>\n",
              "      <td>...</td>\n",
              "      <td>...</td>\n",
              "      <td>...</td>\n",
              "      <td>...</td>\n",
              "      <td>...</td>\n",
              "      <td>...</td>\n",
              "      <td>...</td>\n",
              "      <td>...</td>\n",
              "      <td>...</td>\n",
              "      <td>...</td>\n",
              "      <td>...</td>\n",
              "      <td>...</td>\n",
              "      <td>...</td>\n",
              "      <td>...</td>\n",
              "    </tr>\n",
              "    <tr>\n",
              "      <th>777710</th>\n",
              "      <td>5150337</td>\n",
              "      <td>M</td>\n",
              "      <td>N</td>\n",
              "      <td>Y</td>\n",
              "      <td>0</td>\n",
              "      <td>112500.0</td>\n",
              "      <td>Working</td>\n",
              "      <td>Secondary / secondary special</td>\n",
              "      <td>Single / not married</td>\n",
              "      <td>Rented apartment</td>\n",
              "      <td>-9188</td>\n",
              "      <td>-1193</td>\n",
              "      <td>1</td>\n",
              "      <td>0</td>\n",
              "      <td>0</td>\n",
              "      <td>0</td>\n",
              "      <td>Laborers</td>\n",
              "      <td>1.0</td>\n",
              "      <td>-9</td>\n",
              "      <td>Atraso</td>\n",
              "    </tr>\n",
              "    <tr>\n",
              "      <th>777711</th>\n",
              "      <td>5150337</td>\n",
              "      <td>M</td>\n",
              "      <td>N</td>\n",
              "      <td>Y</td>\n",
              "      <td>0</td>\n",
              "      <td>112500.0</td>\n",
              "      <td>Working</td>\n",
              "      <td>Secondary / secondary special</td>\n",
              "      <td>Single / not married</td>\n",
              "      <td>Rented apartment</td>\n",
              "      <td>-9188</td>\n",
              "      <td>-1193</td>\n",
              "      <td>1</td>\n",
              "      <td>0</td>\n",
              "      <td>0</td>\n",
              "      <td>0</td>\n",
              "      <td>Laborers</td>\n",
              "      <td>1.0</td>\n",
              "      <td>-10</td>\n",
              "      <td>Atraso</td>\n",
              "    </tr>\n",
              "    <tr>\n",
              "      <th>777712</th>\n",
              "      <td>5150337</td>\n",
              "      <td>M</td>\n",
              "      <td>N</td>\n",
              "      <td>Y</td>\n",
              "      <td>0</td>\n",
              "      <td>112500.0</td>\n",
              "      <td>Working</td>\n",
              "      <td>Secondary / secondary special</td>\n",
              "      <td>Single / not married</td>\n",
              "      <td>Rented apartment</td>\n",
              "      <td>-9188</td>\n",
              "      <td>-1193</td>\n",
              "      <td>1</td>\n",
              "      <td>0</td>\n",
              "      <td>0</td>\n",
              "      <td>0</td>\n",
              "      <td>Laborers</td>\n",
              "      <td>1.0</td>\n",
              "      <td>-11</td>\n",
              "      <td>Atraso</td>\n",
              "    </tr>\n",
              "    <tr>\n",
              "      <th>777713</th>\n",
              "      <td>5150337</td>\n",
              "      <td>M</td>\n",
              "      <td>N</td>\n",
              "      <td>Y</td>\n",
              "      <td>0</td>\n",
              "      <td>112500.0</td>\n",
              "      <td>Working</td>\n",
              "      <td>Secondary / secondary special</td>\n",
              "      <td>Single / not married</td>\n",
              "      <td>Rented apartment</td>\n",
              "      <td>-9188</td>\n",
              "      <td>-1193</td>\n",
              "      <td>1</td>\n",
              "      <td>0</td>\n",
              "      <td>0</td>\n",
              "      <td>0</td>\n",
              "      <td>Laborers</td>\n",
              "      <td>1.0</td>\n",
              "      <td>-12</td>\n",
              "      <td>Atraso</td>\n",
              "    </tr>\n",
              "    <tr>\n",
              "      <th>777714</th>\n",
              "      <td>5150337</td>\n",
              "      <td>M</td>\n",
              "      <td>N</td>\n",
              "      <td>Y</td>\n",
              "      <td>0</td>\n",
              "      <td>112500.0</td>\n",
              "      <td>Working</td>\n",
              "      <td>Secondary / secondary special</td>\n",
              "      <td>Single / not married</td>\n",
              "      <td>Rented apartment</td>\n",
              "      <td>-9188</td>\n",
              "      <td>-1193</td>\n",
              "      <td>1</td>\n",
              "      <td>0</td>\n",
              "      <td>0</td>\n",
              "      <td>0</td>\n",
              "      <td>Laborers</td>\n",
              "      <td>1.0</td>\n",
              "      <td>-13</td>\n",
              "      <td>Atraso</td>\n",
              "    </tr>\n",
              "  </tbody>\n",
              "</table>\n",
              "<p>777715 rows × 20 columns</p>\n",
              "</div>\n",
              "      <button class=\"colab-df-convert\" onclick=\"convertToInteractive('df-dc54fa55-f02d-43c0-accb-1dee911af115')\"\n",
              "              title=\"Convert this dataframe to an interactive table.\"\n",
              "              style=\"display:none;\">\n",
              "        \n",
              "  <svg xmlns=\"http://www.w3.org/2000/svg\" height=\"24px\"viewBox=\"0 0 24 24\"\n",
              "       width=\"24px\">\n",
              "    <path d=\"M0 0h24v24H0V0z\" fill=\"none\"/>\n",
              "    <path d=\"M18.56 5.44l.94 2.06.94-2.06 2.06-.94-2.06-.94-.94-2.06-.94 2.06-2.06.94zm-11 1L8.5 8.5l.94-2.06 2.06-.94-2.06-.94L8.5 2.5l-.94 2.06-2.06.94zm10 10l.94 2.06.94-2.06 2.06-.94-2.06-.94-.94-2.06-.94 2.06-2.06.94z\"/><path d=\"M17.41 7.96l-1.37-1.37c-.4-.4-.92-.59-1.43-.59-.52 0-1.04.2-1.43.59L10.3 9.45l-7.72 7.72c-.78.78-.78 2.05 0 2.83L4 21.41c.39.39.9.59 1.41.59.51 0 1.02-.2 1.41-.59l7.78-7.78 2.81-2.81c.8-.78.8-2.07 0-2.86zM5.41 20L4 18.59l7.72-7.72 1.47 1.35L5.41 20z\"/>\n",
              "  </svg>\n",
              "      </button>\n",
              "      \n",
              "  <style>\n",
              "    .colab-df-container {\n",
              "      display:flex;\n",
              "      flex-wrap:wrap;\n",
              "      gap: 12px;\n",
              "    }\n",
              "\n",
              "    .colab-df-convert {\n",
              "      background-color: #E8F0FE;\n",
              "      border: none;\n",
              "      border-radius: 50%;\n",
              "      cursor: pointer;\n",
              "      display: none;\n",
              "      fill: #1967D2;\n",
              "      height: 32px;\n",
              "      padding: 0 0 0 0;\n",
              "      width: 32px;\n",
              "    }\n",
              "\n",
              "    .colab-df-convert:hover {\n",
              "      background-color: #E2EBFA;\n",
              "      box-shadow: 0px 1px 2px rgba(60, 64, 67, 0.3), 0px 1px 3px 1px rgba(60, 64, 67, 0.15);\n",
              "      fill: #174EA6;\n",
              "    }\n",
              "\n",
              "    [theme=dark] .colab-df-convert {\n",
              "      background-color: #3B4455;\n",
              "      fill: #D2E3FC;\n",
              "    }\n",
              "\n",
              "    [theme=dark] .colab-df-convert:hover {\n",
              "      background-color: #434B5C;\n",
              "      box-shadow: 0px 1px 3px 1px rgba(0, 0, 0, 0.15);\n",
              "      filter: drop-shadow(0px 1px 2px rgba(0, 0, 0, 0.3));\n",
              "      fill: #FFFFFF;\n",
              "    }\n",
              "  </style>\n",
              "\n",
              "      <script>\n",
              "        const buttonEl =\n",
              "          document.querySelector('#df-dc54fa55-f02d-43c0-accb-1dee911af115 button.colab-df-convert');\n",
              "        buttonEl.style.display =\n",
              "          google.colab.kernel.accessAllowed ? 'block' : 'none';\n",
              "\n",
              "        async function convertToInteractive(key) {\n",
              "          const element = document.querySelector('#df-dc54fa55-f02d-43c0-accb-1dee911af115');\n",
              "          const dataTable =\n",
              "            await google.colab.kernel.invokeFunction('convertToInteractive',\n",
              "                                                     [key], {});\n",
              "          if (!dataTable) return;\n",
              "\n",
              "          const docLinkHtml = 'Like what you see? Visit the ' +\n",
              "            '<a target=\"_blank\" href=https://colab.research.google.com/notebooks/data_table.ipynb>data table notebook</a>'\n",
              "            + ' to learn more about interactive tables.';\n",
              "          element.innerHTML = '';\n",
              "          dataTable['output_type'] = 'display_data';\n",
              "          await google.colab.output.renderOutput(dataTable, element);\n",
              "          const docLink = document.createElement('div');\n",
              "          docLink.innerHTML = docLinkHtml;\n",
              "          element.appendChild(docLink);\n",
              "        }\n",
              "      </script>\n",
              "    </div>\n",
              "  </div>\n",
              "  "
            ]
          },
          "metadata": {},
          "execution_count": 13
        }
      ]
    },
    {
      "cell_type": "code",
      "source": [
        "#Removendo IDs duplicados\n",
        "#DF = DF.drop_duplicates('ID',keep='first')"
      ],
      "metadata": {
        "id": "CyH5_8d2uP9t"
      },
      "execution_count": null,
      "outputs": []
    },
    {
      "cell_type": "code",
      "source": [
        "#VERIFICANDO SE EXISTEM REGISTROS NULOS\n",
        "#DF.isnull().values.any()"
      ],
      "metadata": {
        "colab": {
          "base_uri": "https://localhost:8080/"
        },
        "id": "7AZTVXkBvsac",
        "outputId": "290b0d28-b48e-465f-cbbd-c03d1f4962f0"
      },
      "execution_count": null,
      "outputs": [
        {
          "output_type": "execute_result",
          "data": {
            "text/plain": [
              "True"
            ]
          },
          "metadata": {},
          "execution_count": 15
        }
      ]
    },
    {
      "cell_type": "code",
      "source": [
        "#VERIFICANDO ONDE ESTÃO OS VALORES NULOS\n",
        "#DF.isnull().sum()"
      ],
      "metadata": {
        "colab": {
          "base_uri": "https://localhost:8080/"
        },
        "id": "kTA82Os9tBD6",
        "outputId": "84460b38-2b35-4bf5-e9b3-01749abd3b89"
      },
      "execution_count": null,
      "outputs": [
        {
          "output_type": "execute_result",
          "data": {
            "text/plain": [
              "ID                             0\n",
              "GENERO                         0\n",
              "POSSUI_CARRO                   0\n",
              "POSSUI_PROPRIEDADE             0\n",
              "QTD_FILHOS                     0\n",
              "SALARIO_ANUAL                  0\n",
              "CATEGORIA_RENDA                0\n",
              "NIVEL_EDUCAÇÃO                 0\n",
              "ESTADO_CIVIL                   0\n",
              "MODO_VIVER                     0\n",
              "DIAS_DESDE_ANIVERSÁRIO         0\n",
              "DIAS_EMPREGO                   0\n",
              "POSSUI_CELULAR                 0\n",
              "POSSUI_CELULAR_TRABALHO        0\n",
              "POSSUI_TELEFONE                0\n",
              "POSSUI_EMAIL                   0\n",
              "OCUPAÇÃO                   11323\n",
              "QTD_MEMBROS_FAMILIA            0\n",
              "SALDO_MESES                    0\n",
              "STATUS                         0\n",
              "dtype: int64"
            ]
          },
          "metadata": {},
          "execution_count": 16
        }
      ]
    },
    {
      "cell_type": "code",
      "source": [
        "#SUBSTITUINDO OS REGISTROS NULOS\n",
        "#ocupacao = DF['OCUPAÇÃO']\n",
        "#ocupacao.fillna('Vacant', inplace=True)"
      ],
      "metadata": {
        "id": "HyTLGHigtG9S",
        "colab": {
          "base_uri": "https://localhost:8080/"
        },
        "outputId": "33053290-2cf8-450b-dce5-c848b6b5d850"
      },
      "execution_count": null,
      "outputs": [
        {
          "output_type": "stream",
          "name": "stderr",
          "text": [
            "/usr/local/lib/python3.7/dist-packages/pandas/core/generic.py:6392: SettingWithCopyWarning: \n",
            "A value is trying to be set on a copy of a slice from a DataFrame\n",
            "\n",
            "See the caveats in the documentation: https://pandas.pydata.org/pandas-docs/stable/user_guide/indexing.html#returning-a-view-versus-a-copy\n",
            "  return self._update_inplace(result)\n"
          ]
        }
      ]
    },
    {
      "cell_type": "code",
      "source": [
        "#CONFIRMANDO SE AINDA EXISTEM NULL/NA\n",
        "#DF.isnull().values.any()"
      ],
      "metadata": {
        "colab": {
          "base_uri": "https://localhost:8080/"
        },
        "id": "LJ03G4p-vVd5",
        "outputId": "bf5d33e8-91e7-4f2a-be99-5c95307e30c4"
      },
      "execution_count": null,
      "outputs": [
        {
          "output_type": "execute_result",
          "data": {
            "text/plain": [
              "False"
            ]
          },
          "metadata": {},
          "execution_count": 18
        }
      ]
    },
    {
      "cell_type": "code",
      "source": [
        "#VERIFICANDO O TIPO DOS DADOS\n",
        "#DF.dtypes"
      ],
      "metadata": {
        "colab": {
          "base_uri": "https://localhost:8080/"
        },
        "id": "sKILQtiHzZus",
        "outputId": "19f70f65-8586-4c5b-c5cd-45f2e7315aa4"
      },
      "execution_count": null,
      "outputs": [
        {
          "output_type": "execute_result",
          "data": {
            "text/plain": [
              "ID                           int64\n",
              "GENERO                      object\n",
              "POSSUI_CARRO                object\n",
              "POSSUI_PROPRIEDADE          object\n",
              "QTD_FILHOS                   int64\n",
              "SALARIO_ANUAL              float64\n",
              "CATEGORIA_RENDA             object\n",
              "NIVEL_EDUCAÇÃO              object\n",
              "ESTADO_CIVIL                object\n",
              "MODO_VIVER                  object\n",
              "DIAS_DESDE_ANIVERSÁRIO       int64\n",
              "DIAS_EMPREGO                 int64\n",
              "POSSUI_CELULAR               int64\n",
              "POSSUI_CELULAR_TRABALHO      int64\n",
              "POSSUI_TELEFONE              int64\n",
              "POSSUI_EMAIL                 int64\n",
              "OCUPAÇÃO                    object\n",
              "QTD_MEMBROS_FAMILIA        float64\n",
              "SALDO_MESES                  int64\n",
              "STATUS                      object\n",
              "dtype: object"
            ]
          },
          "metadata": {},
          "execution_count": 19
        }
      ]
    },
    {
      "cell_type": "code",
      "source": [
        "#Retirando colunas que não trazem informação relevante\n",
        "#DF = DF.drop(columns=['ID'])\n",
        "#DF = DF.drop(columns=['POSSUI_CELULAR'])\n",
        "#DF = DF.drop(columns=['POSSUI_CELULAR_TRABALHO'])\n",
        "#DF = DF.drop(columns=['POSSUI_TELEFONE'])\n",
        "#DF = DF.drop(columns=['POSSUI_EMAIL'])\n",
        "#DF = DF.drop(columns=['GENERO'])"
      ],
      "metadata": {
        "id": "pEQVerrdYtPc"
      },
      "execution_count": null,
      "outputs": []
    },
    {
      "cell_type": "code",
      "source": [
        "#AJUSTANDO O TIPO DE DADOS\n",
        "\n",
        "#DF['POSSUI_CARRO'].replace('Y',1,inplace=True)\n",
        "#DF['POSSUI_CARRO'].replace('N',0,inplace=True)\n",
        "#DF['POSSUI_PROPRIEDADE'].replace('Y',1,inplace=True)\n",
        "#DF['POSSUI_PROPRIEDADE'].replace('N',0,inplace=True)\n",
        "\n",
        "#DF['OCUPAÇÃO'] = DF['OCUPAÇÃO'].astype('category')\n",
        "#DF['CATEGORIA_RENDA'] = DF['CATEGORIA_RENDA'].astype('category')\n",
        "#DF['MODO_VIVER'] = DF['MODO_VIVER'].astype('category')\n",
        "#DF['ESTADO_CIVIL'] = DF['ESTADO_CIVIL'].astype('category')"
      ],
      "metadata": {
        "id": "d9F-eGUjpuel"
      },
      "execution_count": null,
      "outputs": []
    },
    {
      "cell_type": "code",
      "source": [
        "#DF"
      ],
      "metadata": {
        "colab": {
          "base_uri": "https://localhost:8080/",
          "height": 641
        },
        "id": "OtG0ZwewuHnn",
        "outputId": "44ec1c4a-b048-4297-a1ac-12e1b8c634d8"
      },
      "execution_count": null,
      "outputs": [
        {
          "output_type": "execute_result",
          "data": {
            "text/plain": [
              "        POSSUI_CARRO  POSSUI_PROPRIEDADE  QTD_FILHOS  SALARIO_ANUAL  \\\n",
              "0                  1                   1           0       427500.0   \n",
              "16                 1                   1           0       427500.0   \n",
              "31                 1                   1           0       112500.0   \n",
              "61                 0                   1           0       270000.0   \n",
              "66                 0                   1           0       270000.0   \n",
              "...              ...                 ...         ...            ...   \n",
              "777622             1                   1           0       315000.0   \n",
              "777634             0                   1           0       157500.0   \n",
              "777658             0                   1           0       157500.0   \n",
              "777691             0                   1           0       283500.0   \n",
              "777701             0                   1           0       112500.0   \n",
              "\n",
              "             CATEGORIA_RENDA                 NIVEL_EDUCAÇÃO  \\\n",
              "0                    Working               Higher education   \n",
              "16                   Working               Higher education   \n",
              "31                   Working  Secondary / secondary special   \n",
              "61      Commercial associate  Secondary / secondary special   \n",
              "66      Commercial associate  Secondary / secondary special   \n",
              "...                      ...                            ...   \n",
              "777622               Working  Secondary / secondary special   \n",
              "777634  Commercial associate               Higher education   \n",
              "777658             Pensioner               Higher education   \n",
              "777691               Working  Secondary / secondary special   \n",
              "777701               Working  Secondary / secondary special   \n",
              "\n",
              "                ESTADO_CIVIL         MODO_VIVER  DIAS_DESDE_ANIVERSÁRIO  \\\n",
              "0             Civil marriage   Rented apartment                  -12005   \n",
              "16            Civil marriage   Rented apartment                  -12005   \n",
              "31                   Married  House / apartment                  -21474   \n",
              "61      Single / not married  House / apartment                  -19110   \n",
              "66      Single / not married  House / apartment                  -19110   \n",
              "...                      ...                ...                     ...   \n",
              "777622               Married  House / apartment                  -17348   \n",
              "777634               Married  House / apartment                  -12387   \n",
              "777658               Married  House / apartment                  -12387   \n",
              "777691               Married  House / apartment                  -17958   \n",
              "777701  Single / not married   Rented apartment                   -9188   \n",
              "\n",
              "        DIAS_EMPREGO        OCUPAÇÃO  QTD_MEMBROS_FAMILIA  SALDO_MESES  STATUS  \n",
              "0              -4542          Vacant                  2.0            0  Em dia  \n",
              "16             -4542          Vacant                  2.0            0  Em dia  \n",
              "31             -1134  Security staff                  2.0            0  Em dia  \n",
              "61             -3051     Sales staff                  1.0            0  Atraso  \n",
              "66             -3051     Sales staff                  1.0          -22  Em dia  \n",
              "...              ...             ...                  ...          ...     ...  \n",
              "777622         -2420        Managers                  2.0            0  Atraso  \n",
              "777634         -1325  Medicine staff                  2.0            0  Em dia  \n",
              "777658         -1325  Medicine staff                  2.0            0  Em dia  \n",
              "777691          -655     Sales staff                  2.0            0  Atraso  \n",
              "777701         -1193        Laborers                  1.0            0  Atraso  \n",
              "\n",
              "[36457 rows x 14 columns]"
            ],
            "text/html": [
              "\n",
              "  <div id=\"df-75656d77-18b7-4b99-8c8e-5b6e443e79e0\">\n",
              "    <div class=\"colab-df-container\">\n",
              "      <div>\n",
              "<style scoped>\n",
              "    .dataframe tbody tr th:only-of-type {\n",
              "        vertical-align: middle;\n",
              "    }\n",
              "\n",
              "    .dataframe tbody tr th {\n",
              "        vertical-align: top;\n",
              "    }\n",
              "\n",
              "    .dataframe thead th {\n",
              "        text-align: right;\n",
              "    }\n",
              "</style>\n",
              "<table border=\"1\" class=\"dataframe\">\n",
              "  <thead>\n",
              "    <tr style=\"text-align: right;\">\n",
              "      <th></th>\n",
              "      <th>POSSUI_CARRO</th>\n",
              "      <th>POSSUI_PROPRIEDADE</th>\n",
              "      <th>QTD_FILHOS</th>\n",
              "      <th>SALARIO_ANUAL</th>\n",
              "      <th>CATEGORIA_RENDA</th>\n",
              "      <th>NIVEL_EDUCAÇÃO</th>\n",
              "      <th>ESTADO_CIVIL</th>\n",
              "      <th>MODO_VIVER</th>\n",
              "      <th>DIAS_DESDE_ANIVERSÁRIO</th>\n",
              "      <th>DIAS_EMPREGO</th>\n",
              "      <th>OCUPAÇÃO</th>\n",
              "      <th>QTD_MEMBROS_FAMILIA</th>\n",
              "      <th>SALDO_MESES</th>\n",
              "      <th>STATUS</th>\n",
              "    </tr>\n",
              "  </thead>\n",
              "  <tbody>\n",
              "    <tr>\n",
              "      <th>0</th>\n",
              "      <td>1</td>\n",
              "      <td>1</td>\n",
              "      <td>0</td>\n",
              "      <td>427500.0</td>\n",
              "      <td>Working</td>\n",
              "      <td>Higher education</td>\n",
              "      <td>Civil marriage</td>\n",
              "      <td>Rented apartment</td>\n",
              "      <td>-12005</td>\n",
              "      <td>-4542</td>\n",
              "      <td>Vacant</td>\n",
              "      <td>2.0</td>\n",
              "      <td>0</td>\n",
              "      <td>Em dia</td>\n",
              "    </tr>\n",
              "    <tr>\n",
              "      <th>16</th>\n",
              "      <td>1</td>\n",
              "      <td>1</td>\n",
              "      <td>0</td>\n",
              "      <td>427500.0</td>\n",
              "      <td>Working</td>\n",
              "      <td>Higher education</td>\n",
              "      <td>Civil marriage</td>\n",
              "      <td>Rented apartment</td>\n",
              "      <td>-12005</td>\n",
              "      <td>-4542</td>\n",
              "      <td>Vacant</td>\n",
              "      <td>2.0</td>\n",
              "      <td>0</td>\n",
              "      <td>Em dia</td>\n",
              "    </tr>\n",
              "    <tr>\n",
              "      <th>31</th>\n",
              "      <td>1</td>\n",
              "      <td>1</td>\n",
              "      <td>0</td>\n",
              "      <td>112500.0</td>\n",
              "      <td>Working</td>\n",
              "      <td>Secondary / secondary special</td>\n",
              "      <td>Married</td>\n",
              "      <td>House / apartment</td>\n",
              "      <td>-21474</td>\n",
              "      <td>-1134</td>\n",
              "      <td>Security staff</td>\n",
              "      <td>2.0</td>\n",
              "      <td>0</td>\n",
              "      <td>Em dia</td>\n",
              "    </tr>\n",
              "    <tr>\n",
              "      <th>61</th>\n",
              "      <td>0</td>\n",
              "      <td>1</td>\n",
              "      <td>0</td>\n",
              "      <td>270000.0</td>\n",
              "      <td>Commercial associate</td>\n",
              "      <td>Secondary / secondary special</td>\n",
              "      <td>Single / not married</td>\n",
              "      <td>House / apartment</td>\n",
              "      <td>-19110</td>\n",
              "      <td>-3051</td>\n",
              "      <td>Sales staff</td>\n",
              "      <td>1.0</td>\n",
              "      <td>0</td>\n",
              "      <td>Atraso</td>\n",
              "    </tr>\n",
              "    <tr>\n",
              "      <th>66</th>\n",
              "      <td>0</td>\n",
              "      <td>1</td>\n",
              "      <td>0</td>\n",
              "      <td>270000.0</td>\n",
              "      <td>Commercial associate</td>\n",
              "      <td>Secondary / secondary special</td>\n",
              "      <td>Single / not married</td>\n",
              "      <td>House / apartment</td>\n",
              "      <td>-19110</td>\n",
              "      <td>-3051</td>\n",
              "      <td>Sales staff</td>\n",
              "      <td>1.0</td>\n",
              "      <td>-22</td>\n",
              "      <td>Em dia</td>\n",
              "    </tr>\n",
              "    <tr>\n",
              "      <th>...</th>\n",
              "      <td>...</td>\n",
              "      <td>...</td>\n",
              "      <td>...</td>\n",
              "      <td>...</td>\n",
              "      <td>...</td>\n",
              "      <td>...</td>\n",
              "      <td>...</td>\n",
              "      <td>...</td>\n",
              "      <td>...</td>\n",
              "      <td>...</td>\n",
              "      <td>...</td>\n",
              "      <td>...</td>\n",
              "      <td>...</td>\n",
              "      <td>...</td>\n",
              "    </tr>\n",
              "    <tr>\n",
              "      <th>777622</th>\n",
              "      <td>1</td>\n",
              "      <td>1</td>\n",
              "      <td>0</td>\n",
              "      <td>315000.0</td>\n",
              "      <td>Working</td>\n",
              "      <td>Secondary / secondary special</td>\n",
              "      <td>Married</td>\n",
              "      <td>House / apartment</td>\n",
              "      <td>-17348</td>\n",
              "      <td>-2420</td>\n",
              "      <td>Managers</td>\n",
              "      <td>2.0</td>\n",
              "      <td>0</td>\n",
              "      <td>Atraso</td>\n",
              "    </tr>\n",
              "    <tr>\n",
              "      <th>777634</th>\n",
              "      <td>0</td>\n",
              "      <td>1</td>\n",
              "      <td>0</td>\n",
              "      <td>157500.0</td>\n",
              "      <td>Commercial associate</td>\n",
              "      <td>Higher education</td>\n",
              "      <td>Married</td>\n",
              "      <td>House / apartment</td>\n",
              "      <td>-12387</td>\n",
              "      <td>-1325</td>\n",
              "      <td>Medicine staff</td>\n",
              "      <td>2.0</td>\n",
              "      <td>0</td>\n",
              "      <td>Em dia</td>\n",
              "    </tr>\n",
              "    <tr>\n",
              "      <th>777658</th>\n",
              "      <td>0</td>\n",
              "      <td>1</td>\n",
              "      <td>0</td>\n",
              "      <td>157500.0</td>\n",
              "      <td>Pensioner</td>\n",
              "      <td>Higher education</td>\n",
              "      <td>Married</td>\n",
              "      <td>House / apartment</td>\n",
              "      <td>-12387</td>\n",
              "      <td>-1325</td>\n",
              "      <td>Medicine staff</td>\n",
              "      <td>2.0</td>\n",
              "      <td>0</td>\n",
              "      <td>Em dia</td>\n",
              "    </tr>\n",
              "    <tr>\n",
              "      <th>777691</th>\n",
              "      <td>0</td>\n",
              "      <td>1</td>\n",
              "      <td>0</td>\n",
              "      <td>283500.0</td>\n",
              "      <td>Working</td>\n",
              "      <td>Secondary / secondary special</td>\n",
              "      <td>Married</td>\n",
              "      <td>House / apartment</td>\n",
              "      <td>-17958</td>\n",
              "      <td>-655</td>\n",
              "      <td>Sales staff</td>\n",
              "      <td>2.0</td>\n",
              "      <td>0</td>\n",
              "      <td>Atraso</td>\n",
              "    </tr>\n",
              "    <tr>\n",
              "      <th>777701</th>\n",
              "      <td>0</td>\n",
              "      <td>1</td>\n",
              "      <td>0</td>\n",
              "      <td>112500.0</td>\n",
              "      <td>Working</td>\n",
              "      <td>Secondary / secondary special</td>\n",
              "      <td>Single / not married</td>\n",
              "      <td>Rented apartment</td>\n",
              "      <td>-9188</td>\n",
              "      <td>-1193</td>\n",
              "      <td>Laborers</td>\n",
              "      <td>1.0</td>\n",
              "      <td>0</td>\n",
              "      <td>Atraso</td>\n",
              "    </tr>\n",
              "  </tbody>\n",
              "</table>\n",
              "<p>36457 rows × 14 columns</p>\n",
              "</div>\n",
              "      <button class=\"colab-df-convert\" onclick=\"convertToInteractive('df-75656d77-18b7-4b99-8c8e-5b6e443e79e0')\"\n",
              "              title=\"Convert this dataframe to an interactive table.\"\n",
              "              style=\"display:none;\">\n",
              "        \n",
              "  <svg xmlns=\"http://www.w3.org/2000/svg\" height=\"24px\"viewBox=\"0 0 24 24\"\n",
              "       width=\"24px\">\n",
              "    <path d=\"M0 0h24v24H0V0z\" fill=\"none\"/>\n",
              "    <path d=\"M18.56 5.44l.94 2.06.94-2.06 2.06-.94-2.06-.94-.94-2.06-.94 2.06-2.06.94zm-11 1L8.5 8.5l.94-2.06 2.06-.94-2.06-.94L8.5 2.5l-.94 2.06-2.06.94zm10 10l.94 2.06.94-2.06 2.06-.94-2.06-.94-.94-2.06-.94 2.06-2.06.94z\"/><path d=\"M17.41 7.96l-1.37-1.37c-.4-.4-.92-.59-1.43-.59-.52 0-1.04.2-1.43.59L10.3 9.45l-7.72 7.72c-.78.78-.78 2.05 0 2.83L4 21.41c.39.39.9.59 1.41.59.51 0 1.02-.2 1.41-.59l7.78-7.78 2.81-2.81c.8-.78.8-2.07 0-2.86zM5.41 20L4 18.59l7.72-7.72 1.47 1.35L5.41 20z\"/>\n",
              "  </svg>\n",
              "      </button>\n",
              "      \n",
              "  <style>\n",
              "    .colab-df-container {\n",
              "      display:flex;\n",
              "      flex-wrap:wrap;\n",
              "      gap: 12px;\n",
              "    }\n",
              "\n",
              "    .colab-df-convert {\n",
              "      background-color: #E8F0FE;\n",
              "      border: none;\n",
              "      border-radius: 50%;\n",
              "      cursor: pointer;\n",
              "      display: none;\n",
              "      fill: #1967D2;\n",
              "      height: 32px;\n",
              "      padding: 0 0 0 0;\n",
              "      width: 32px;\n",
              "    }\n",
              "\n",
              "    .colab-df-convert:hover {\n",
              "      background-color: #E2EBFA;\n",
              "      box-shadow: 0px 1px 2px rgba(60, 64, 67, 0.3), 0px 1px 3px 1px rgba(60, 64, 67, 0.15);\n",
              "      fill: #174EA6;\n",
              "    }\n",
              "\n",
              "    [theme=dark] .colab-df-convert {\n",
              "      background-color: #3B4455;\n",
              "      fill: #D2E3FC;\n",
              "    }\n",
              "\n",
              "    [theme=dark] .colab-df-convert:hover {\n",
              "      background-color: #434B5C;\n",
              "      box-shadow: 0px 1px 3px 1px rgba(0, 0, 0, 0.15);\n",
              "      filter: drop-shadow(0px 1px 2px rgba(0, 0, 0, 0.3));\n",
              "      fill: #FFFFFF;\n",
              "    }\n",
              "  </style>\n",
              "\n",
              "      <script>\n",
              "        const buttonEl =\n",
              "          document.querySelector('#df-75656d77-18b7-4b99-8c8e-5b6e443e79e0 button.colab-df-convert');\n",
              "        buttonEl.style.display =\n",
              "          google.colab.kernel.accessAllowed ? 'block' : 'none';\n",
              "\n",
              "        async function convertToInteractive(key) {\n",
              "          const element = document.querySelector('#df-75656d77-18b7-4b99-8c8e-5b6e443e79e0');\n",
              "          const dataTable =\n",
              "            await google.colab.kernel.invokeFunction('convertToInteractive',\n",
              "                                                     [key], {});\n",
              "          if (!dataTable) return;\n",
              "\n",
              "          const docLinkHtml = 'Like what you see? Visit the ' +\n",
              "            '<a target=\"_blank\" href=https://colab.research.google.com/notebooks/data_table.ipynb>data table notebook</a>'\n",
              "            + ' to learn more about interactive tables.';\n",
              "          element.innerHTML = '';\n",
              "          dataTable['output_type'] = 'display_data';\n",
              "          await google.colab.output.renderOutput(dataTable, element);\n",
              "          const docLink = document.createElement('div');\n",
              "          docLink.innerHTML = docLinkHtml;\n",
              "          element.appendChild(docLink);\n",
              "        }\n",
              "      </script>\n",
              "    </div>\n",
              "  </div>\n",
              "  "
            ]
          },
          "metadata": {},
          "execution_count": 22
        }
      ]
    },
    {
      "cell_type": "markdown",
      "source": [
        "#Análise Exploratória"
      ],
      "metadata": {
        "id": "d4hVlbZizLyB"
      }
    },
    {
      "cell_type": "code",
      "source": [
        "#Verificando quantidade de linhas e colunas\n",
        "#DF.shape"
      ],
      "metadata": {
        "colab": {
          "base_uri": "https://localhost:8080/"
        },
        "id": "QnfxjmWyzPD_",
        "outputId": "fbc6d358-e902-4e36-c12b-320575ed05d6"
      },
      "execution_count": null,
      "outputs": [
        {
          "output_type": "execute_result",
          "data": {
            "text/plain": [
              "(36457, 14)"
            ]
          },
          "metadata": {},
          "execution_count": 23
        }
      ]
    },
    {
      "cell_type": "code",
      "source": [
        "#Plotando histograma das classificações do atributo Status\n",
        "#plt.figure(figsize=(8,10))\n",
        "#DF['STATUS'].hist()"
      ],
      "metadata": {
        "colab": {
          "base_uri": "https://localhost:8080/",
          "height": 609
        },
        "id": "hJixPt3V9ZMW",
        "outputId": "d3153727-2d70-47d2-cd3b-0c207f6ebdb6"
      },
      "execution_count": null,
      "outputs": [
        {
          "output_type": "execute_result",
          "data": {
            "text/plain": [
              "<matplotlib.axes._subplots.AxesSubplot at 0x7f94b5a61a90>"
            ]
          },
          "metadata": {},
          "execution_count": 24
        },
        {
          "output_type": "display_data",
          "data": {
            "text/plain": [
              "<Figure size 576x720 with 1 Axes>"
            ],
            "image/png": "[encoded data removed]"
          },
          "metadata": {
            "needs_background": "light"
          }
        }
      ]
    },
    {
      "cell_type": "code",
      "source": [
        "#Possuem propriedade\n",
        "#plt.figure(figsize=(10, 12))\n",
        "#DF.groupby('POSSUI_PROPRIEDADE')['POSSUI_PROPRIEDADE'].count().plot(kind='pie')"
      ],
      "metadata": {
        "colab": {
          "base_uri": "https://localhost:8080/",
          "height": 606
        },
        "id": "rNY3WF4Q0A_w",
        "outputId": "7d8e0905-1494-45e2-f0f7-39bd8e86409f"
      },
      "execution_count": null,
      "outputs": [
        {
          "output_type": "execute_result",
          "data": {
            "text/plain": [
              "<matplotlib.axes._subplots.AxesSubplot at 0x7f94b0cbcf10>"
            ]
          },
          "metadata": {},
          "execution_count": 44
        },
        {
          "output_type": "display_data",
          "data": {
            "text/plain": [
              "<Figure size 720x864 with 1 Axes>"
            ],
            "image/png": "[encoded data removed]"
          },
          "metadata": {}
        }
      ]
    },
    {
      "cell_type": "code",
      "source": [
        "#Contagem regressiva a partir do dia atual (0), -1 significa \n",
        "#plt.figure(figsize=(10, 12))\n",
        "#DF.hist(column='DIAS_DESDE_ANIVERSÁRIO');"
      ],
      "metadata": {
        "colab": {
          "base_uri": "https://localhost:8080/",
          "height": 300
        },
        "id": "3VfSXeSQ2Kiz",
        "outputId": "f7ee426e-8ab8-4056-ce9b-24598c57c5ef"
      },
      "execution_count": null,
      "outputs": [
        {
          "output_type": "display_data",
          "data": {
            "text/plain": [
              "<Figure size 720x864 with 0 Axes>"
            ]
          },
          "metadata": {}
        },
        {
          "output_type": "display_data",
          "data": {
            "text/plain": [
              "<Figure size 432x288 with 1 Axes>"
            ],
            "image/png": "[encoded data removed]"
          },
          "metadata": {
            "needs_background": "light"
          }
        }
      ]
    },
    {
      "cell_type": "code",
      "source": [
        "#Contagem de empregados e desempregados (Contagem de dias desde o início do emprego atual)\n",
        "#plt.figure(figsize=(10, 12))\n",
        "#DF.hist(column='DIAS_EMPREGO');"
      ],
      "metadata": {
        "colab": {
          "base_uri": "https://localhost:8080/",
          "height": 298
        },
        "id": "06MhtjYfcGUA",
        "outputId": "d7a4f18f-89d5-41c8-a89a-7feb2ff5aed6"
      },
      "execution_count": null,
      "outputs": [
        {
          "output_type": "display_data",
          "data": {
            "text/plain": [
              "<Figure size 720x864 with 0 Axes>"
            ]
          },
          "metadata": {}
        },
        {
          "output_type": "display_data",
          "data": {
            "text/plain": [
              "<Figure size 432x288 with 1 Axes>"
            ],
            "image/png": "[encoded data removed]"
          },
          "metadata": {
            "needs_background": "light"
          }
        }
      ]
    },
    {
      "cell_type": "code",
      "source": [
        "#Análisando a correlação\n",
        "#plt.figure(figsize=(14,10))\n",
        "\n",
        "#sns.heatmap(DF.corr(), cmap=\"Blues\", annot=True)\n",
        "#plt.show()"
      ],
      "metadata": {
        "colab": {
          "base_uri": "https://localhost:8080/",
          "height": 722
        },
        "id": "fIAEdt10nxEX",
        "outputId": "f187f1c4-2a55-401c-bc5f-886a8a0707e1"
      },
      "execution_count": null,
      "outputs": [
        {
          "output_type": "display_data",
          "data": {
            "text/plain": [
              "<Figure size 1008x720 with 2 Axes>"
            ],
            "image/png": "[encoded data removed]"
          },
          "metadata": {
            "needs_background": "light"
          }
        }
      ]
    },
    {
      "cell_type": "markdown",
      "source": [
        "#Treino e Teste\n"
      ],
      "metadata": {
        "id": "39BRS34sb7jk"
      }
    },
    {
      "cell_type": "code",
      "source": [
        "#Definimos a coluna a ser considerada no teste e dropamos a mesma\n",
        "#y = DF.STATUS\n",
        "#DF.drop(columns=['STATUS'], inplace=True)"
      ],
      "metadata": {
        "id": "yP5YR1Otqt68"
      },
      "execution_count": null,
      "outputs": []
    },
    {
      "cell_type": "code",
      "source": [
        "#Fizemos a contagem da classificação 'em dia' e em 'atraso' da coluna Status\n",
        "#y.value_counts()"
      ],
      "metadata": {
        "colab": {
          "base_uri": "https://localhost:8080/"
        },
        "id": "JeGpPDzWrZB2",
        "outputId": "acd52014-ce83-454b-d63b-04a9920c0868"
      },
      "execution_count": null,
      "outputs": [
        {
          "output_type": "execute_result",
          "data": {
            "text/plain": [
              "Em dia    27619\n",
              "Atraso     8838\n",
              "Name: STATUS, dtype: int64"
            ]
          },
          "metadata": {},
          "execution_count": 29
        }
      ]
    },
    {
      "cell_type": "code",
      "source": [
        "#Definindo as colunas a considerar\n",
        "#x = DF[DF.columns[1:-3]]"
      ],
      "metadata": {
        "id": "5TSxITG5tRT1"
      },
      "execution_count": null,
      "outputs": []
    },
    {
      "cell_type": "code",
      "source": [
        "#Contagem das classificações 'Em dia' e 'Atraso' da coluna Status\n",
        "#x = pd.get_dummies(x,drop_first=True)"
      ],
      "metadata": {
        "id": "tXeLxy5Ascut"
      },
      "execution_count": null,
      "outputs": []
    },
    {
      "cell_type": "code",
      "source": [
        "#Declaração das variáveis de treino, definição da porcentagem do dataset a ser considerado\n",
        "#X_train, X_test, y_train, y_test = train_test_split(x, y, test_size=0.2, random_state=0, stratify=y)"
      ],
      "metadata": {
        "id": "bB9dZJbLrpmA"
      },
      "execution_count": null,
      "outputs": []
    },
    {
      "cell_type": "code",
      "source": [
        "# Técnica de limpeza de dados desbalanceados\n",
        "#tl = TomekLinks(sampling_strategy='majority')\n",
        "#x_tl, y_tl = tl.fit_resample(X_train,y_train)"
      ],
      "metadata": {
        "id": "dOM8dTN7uMYe"
      },
      "execution_count": null,
      "outputs": []
    },
    {
      "cell_type": "code",
      "source": [
        "# Técnica de limpeza de dados desbalanceados\n",
        "#smote = SMOTE()\n",
        "#x_smote, y_smote = smote.fit_resample(x_tl, y_tl)"
      ],
      "metadata": {
        "id": "JSxb5KJBuQOG"
      },
      "execution_count": null,
      "outputs": []
    },
    {
      "cell_type": "markdown",
      "source": [
        "##KNN Classificação"
      ],
      "metadata": {
        "id": "TQs1RAcXzooR"
      }
    },
    {
      "cell_type": "code",
      "source": [
        "# Técnica para analisar de proximidade entre dados\n",
        "# Dados similares tendem a estar concentrados na mesma região de dispersão dos dados\n",
        "#knn = KNeighborsClassifier(n_neighbors=1)\n",
        "#knn.fit(x_smote, y_smote)\n",
        "#y_pred = knn.predict(X_test)\n",
        "#print(knn.score(X_test, y_test))"
      ],
      "metadata": {
        "colab": {
          "base_uri": "https://localhost:8080/"
        },
        "id": "ORMgMrWYukfC",
        "outputId": "f7c56afe-e007-4557-df25-d86ab1aab5d6"
      },
      "execution_count": null,
      "outputs": [
        {
          "output_type": "stream",
          "name": "stdout",
          "text": [
            "0.6695008228195283\n"
          ]
        }
      ]
    },
    {
      "cell_type": "markdown",
      "source": [
        "#Random Forest Classificação"
      ],
      "metadata": {
        "id": "OMSeRREjzgPL"
      }
    },
    {
      "cell_type": "code",
      "source": [
        "#clf = RandomForestClassifier(max_depth=2, random_state=10)\n",
        "#clf.fit(x_smote, y_smote)\n",
        "#y_pred = clf.predict(X_test)\n",
        "#print(clf.score(X_test, y_test))"
      ],
      "metadata": {
        "colab": {
          "base_uri": "https://localhost:8080/"
        },
        "id": "wGNRrTQ1vERb",
        "outputId": "db9c6c9a-77fd-41d3-937b-662feefcb757"
      },
      "execution_count": null,
      "outputs": [
        {
          "output_type": "stream",
          "name": "stdout",
          "text": [
            "0.5707624794295117\n"
          ]
        }
      ]
    },
    {
      "cell_type": "code",
      "source": [
        "#def plot_feature_importance(importance,names,model_type):\n",
        "\n",
        "#Cria arrays a partir da importância e dos nomes dos recursos\n",
        "#    feature_importance = np.array(importance)\n",
        " #   feature_names = np.array(names)\n",
        "\n",
        "#Criar um DataFrame usando um dicionário\n",
        "#    data={'feature_names':feature_names,'feature_importance':feature_importance}\n",
        " #   fi_df = pd.DataFrame(data)\n",
        "\n",
        "#Classifica o DataFrame para diminuir a importância do recurso\n",
        "#    fi_df.sort_values(by=['feature_importance'], ascending=False,inplace=True)\n",
        "\n",
        "#Define o tamanho do gráfico de barras\n",
        "#    plt.figure(figsize=(13,20))\n",
        "\n",
        "#Plota gráfico de barras Searborn\n",
        "#    sns.barplot(x=fi_df['feature_importance'], y=fi_df['feature_names'])\n",
        "\n",
        "#Adiciona rótulos no gráfico\n",
        "#    plt.title(model_type + ' IMPORTÂNCIA')\n",
        "#    plt.xlabel('FEATURE IMPORTANCE')\n",
        "#    plt.ylabel('FEATURE NAMES')\n"
      ],
      "metadata": {
        "id": "plGh3E8qvQSC"
      },
      "execution_count": null,
      "outputs": []
    },
    {
      "cell_type": "code",
      "source": [
        "#Grafico dos atributos que melhor se relacionam com um bom pagar\n",
        "#plot_feature_importance(clf.feature_importances_,X_train.columns,'RANDOM FOREST')"
      ],
      "metadata": {
        "colab": {
          "base_uri": "https://localhost:8080/",
          "height": 1000
        },
        "id": "GF0dWfKZvR-m",
        "outputId": "ed7fc046-aaab-4120-c303-6f9fa063576b"
      },
      "execution_count": null,
      "outputs": [
        {
          "output_type": "display_data",
          "data": {
            "text/plain": [
              "<Figure size 936x1440 with 1 Axes>"
            ],
            "image/png": "[encoded data removed]"
          },
          "metadata": {
            "needs_background": "light"
          }
        }
      ]
    }
  ]
}